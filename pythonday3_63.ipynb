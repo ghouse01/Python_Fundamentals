{
 "cells": [
  {
   "cell_type": "code",
   "execution_count": 1,
   "id": "dd176623",
   "metadata": {},
   "outputs": [
    {
     "name": "stdout",
     "output_type": "stream",
     "text": [
      "Hello World! Today i started learning python programmimg language\n"
     ]
    }
   ],
   "source": [
    "print(\"Hello World! Today i started learning python programmimg language\")"
   ]
  },
  {
   "cell_type": "code",
   "execution_count": 8,
   "id": "0af187b2",
   "metadata": {},
   "outputs": [
    {
     "name": "stdout",
     "output_type": "stream",
     "text": [
      "Syed Ghouse\n"
     ]
    }
   ],
   "source": [
    "#Introduction to f strings\n",
    "\n",
    "first_name='syed'\n",
    "Lastname='ghouse'\n",
    "#Need to get the fullName\n",
    "fullname=f\"{first_name.title()} {Lastname.title()}\"\n",
    "#.title() is used to get first letter as capital letter\n",
    "print(fullname)\n"
   ]
  },
  {
   "cell_type": "code",
   "execution_count": 10,
   "id": "1da5a293",
   "metadata": {},
   "outputs": [
    {
     "name": "stdout",
     "output_type": "stream",
     "text": [
      "Keep up the Good Work! Syed Ghouse:)\n"
     ]
    }
   ],
   "source": [
    "Message=f\"Keep up the Good Work! {fullname}\"\n",
    "print(Message)"
   ]
  },
  {
   "cell_type": "code",
   "execution_count": 11,
   "id": "0ae90979",
   "metadata": {},
   "outputs": [
    {
     "name": "stdout",
     "output_type": "stream",
     "text": [
      "favourite Languages:\n",
      "python\n",
      "java\n",
      "oracle\n",
      "C++\n"
     ]
    }
   ],
   "source": [
    "#Adding white Spaces to string\n",
    "print(\"favourite Languages:\\npython\\njava\\noracle\\nC++\")\n",
    "#\\n ---> is new line delimiter if we wont give \\n in the script then it will display result in same line."
   ]
  },
  {
   "cell_type": "code",
   "execution_count": 12,
   "id": "07775daf",
   "metadata": {},
   "outputs": [
    {
     "name": "stdout",
     "output_type": "stream",
     "text": [
      "favourite Languages:\n",
      "\tpython\n",
      "\tjava\n",
      "\toracle\n",
      "\tC++\n"
     ]
    }
   ],
   "source": [
    "print(\"favourite Languages:\\n\\tpython\\n\\tjava\\n\\toracle\\n\\tC++\")\n",
    "#\\t----> tab delimiter it will displaye result with tab  \n",
    "#in above example we mentioned both new line and tab delimiter it will consider both delimiters."
   ]
  },
  {
   "cell_type": "code",
   "execution_count": 13,
   "id": "02b09053",
   "metadata": {},
   "outputs": [
    {
     "name": "stdout",
     "output_type": "stream",
     "text": [
      "mango\n"
     ]
    }
   ],
   "source": [
    "#Removing Whitespaces from strings:\n",
    "fruit1='mango'\n",
    "#here we have not given any spaces to mango hence it is normal\n",
    "print(fruit1)"
   ]
  },
  {
   "cell_type": "code",
   "execution_count": 15,
   "id": "baa38ac1",
   "metadata": {},
   "outputs": [
    {
     "name": "stdout",
     "output_type": "stream",
     "text": [
      "   mango\n",
      "mango   \n"
     ]
    }
   ],
   "source": [
    "fruit2='   mango'\n",
    "#here we have given 3 space before mango and we get the result with 3 spaces before mango.\n",
    "print(fruit2)\n",
    "fruit3='mango   '\n",
    "#here we have given 3 spaces after mango and we get the result with 3 spaces after mango.\n",
    "print(fruit3)"
   ]
  },
  {
   "cell_type": "code",
   "execution_count": 20,
   "id": "daf8a668",
   "metadata": {},
   "outputs": [
    {
     "name": "stdout",
     "output_type": "stream",
     "text": [
      "mango\n",
      "mango\n",
      "mango\n"
     ]
    }
   ],
   "source": [
    "#To get rid of these spaces we need to use lstrip, rstrip and strip\n",
    "#lstrip is left side space --> helps to remove left side spaces.\n",
    "#rstrip is right side stript--> helps to remove right side spaces\n",
    "#strip is helps to remove overall spaces from the result (left and right spaces).\n",
    "#below example will give clear idea for removing white spaces.\n",
    "fruit1='  mango'\n",
    "fruit2='mango  '\n",
    "fruit3='  mango  '\n",
    "print(fruit1.lstrip())\n",
    "print(fruit2.rstrip())\n",
    "print(fruit3.strip())"
   ]
  },
  {
   "cell_type": "code",
   "execution_count": null,
   "id": "62bb4452",
   "metadata": {},
   "outputs": [],
   "source": []
  }
 ],
 "metadata": {
  "kernelspec": {
   "display_name": "Python 3 (ipykernel)",
   "language": "python",
   "name": "python3"
  },
  "language_info": {
   "codemirror_mode": {
    "name": "ipython",
    "version": 3
   },
   "file_extension": ".py",
   "mimetype": "text/x-python",
   "name": "python",
   "nbconvert_exporter": "python",
   "pygments_lexer": "ipython3",
   "version": "3.9.12"
  }
 },
 "nbformat": 4,
 "nbformat_minor": 5
}

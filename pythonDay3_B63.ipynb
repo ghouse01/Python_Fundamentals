{
 "cells": [
  {
   "cell_type": "code",
   "execution_count": 1,
   "id": "dd176623",
   "metadata": {},
   "outputs": [
    {
     "name": "stdout",
     "output_type": "stream",
     "text": [
      "Hello World! Today i started learning python programmimg language\n"
     ]
    }
   ],
   "source": [
    "print(\"Hello World! Today i started learning python programmimg language\")"
   ]
  },
  {
   "cell_type": "code",
   "execution_count": 8,
   "id": "0af187b2",
   "metadata": {},
   "outputs": [
    {
     "name": "stdout",
     "output_type": "stream",
     "text": [
      "Syed Ghouse\n"
     ]
    }
   ],
   "source": [
    "#Introduction to f strings\n",
    "\n",
    "first_name='syed'\n",
    "Lastname='ghouse'\n",
    "#Need to get the fullName\n",
    "fullname=f\"{first_name.title()} {Lastname.title()}\"\n",
    "#.title() is used to get first letter as capital letter\n",
    "print(fullname)\n"
   ]
  },
  {
   "cell_type": "code",
   "execution_count": 10,
   "id": "1da5a293",
   "metadata": {},
   "outputs": [
    {
     "name": "stdout",
     "output_type": "stream",
     "text": [
      "Keep up the Good Work! Syed Ghouse:)\n"
     ]
    }
   ],
   "source": [
    "Message=f\"Keep up the Good Work! {fullname}\"\n",
    "print(Message)"
   ]
  },
  {
   "cell_type": "code",
   "execution_count": null,
   "id": "0ae90979",
   "metadata": {},
   "outputs": [],
   "source": []
  },
  {
   "cell_type": "code",
   "execution_count": null,
   "id": "07775daf",
   "metadata": {},
   "outputs": [],
   "source": []
  }
 ],
 "metadata": {
  "kernelspec": {
   "display_name": "Python 3 (ipykernel)",
   "language": "python",
   "name": "python3"
  },
  "language_info": {
   "codemirror_mode": {
    "name": "ipython",
    "version": 3
   },
   "file_extension": ".py",
   "mimetype": "text/x-python",
   "name": "python",
   "nbconvert_exporter": "python",
   "pygments_lexer": "ipython3",
   "version": "3.9.12"
  }
 },
 "nbformat": 4,
 "nbformat_minor": 5
}
